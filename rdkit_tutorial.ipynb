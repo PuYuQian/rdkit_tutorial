{
 "cells": [
  {
   "cell_type": "markdown",
   "id": "ahead-manitoba",
   "metadata": {},
   "source": [
    "# RDKIT TUTORIAL"
   ]
  },
  {
   "cell_type": "markdown",
   "id": "surgical-twist",
   "metadata": {},
   "source": [
    "## Rdkit安装"
   ]
  },
  {
   "cell_type": "code",
   "execution_count": 1,
   "id": "parental-freeze",
   "metadata": {},
   "outputs": [
    {
     "data": {
      "text/plain": [
       "'2021.09.11'"
      ]
     },
     "execution_count": 1,
     "metadata": {},
     "output_type": "execute_result"
    }
   ],
   "source": [
    "# conda install -c conda-forge rdkit\n",
    "import rdkit\n",
    "rdkit.__version__"
   ]
  },
  {
   "cell_type": "markdown",
   "id": "periodic-validity",
   "metadata": {},
   "source": [
    "## [读写分子](http://rdkit.chenzhaoqiang.com/basicManual.html#id3)"
   ]
  },
  {
   "cell_type": "code",
   "execution_count": 18,
   "id": "graduate-import",
   "metadata": {},
   "outputs": [
    {
     "name": "stdout",
     "output_type": "stream",
     "text": [
      "<rdkit.Chem.rdchem.Mol object at 0x7fa4b54e5fa0>\n",
      "CCC(C)(C)c1ccc2c(c1)C(=O)c1ccccc1C2=O\n"
     ]
    },
    {
     "data": {
      "image/png": "[encoded data removed]",
      "text/plain": [
       "<PIL.PngImagePlugin.PngImageFile image mode=RGB size=150x150 at 0x7FA4B54DE2B0>"
      ]
     },
     "execution_count": 18,
     "metadata": {},
     "output_type": "execute_result"
    }
   ],
   "source": [
    "# mol -> smiles\n",
    "from rdkit import Chem\n",
    "from rdkit.Chem import Draw\n",
    "mol_file = 'data/AAQ.mol'\n",
    "mol = Chem.MolFromMolFile(mol_file)\n",
    "smiles = Chem.MolToSmiles(mol)\n",
    "#画分子图\n",
    "# Draw.MolToFile(mol,'img/AAQ.png')\n",
    "print(f'{mol}\\n{smiles}')\n",
    "Draw.MolToImage(mol, size=(150, 150),fitImage=True)"
   ]
  },
  {
   "cell_type": "code",
   "execution_count": 3,
   "id": "whole-mississippi",
   "metadata": {},
   "outputs": [
    {
     "name": "stdout",
     "output_type": "stream",
     "text": [
      "<rdkit.Chem.rdchem.Mol object at 0x7fa4b53e6220>\n",
      "\n",
      "     RDKit          2D\n",
      "\n",
      " 21 23  0  0  0  0  0  0  0  0999 V2000\n",
      "    0.7500   -6.4952    0.0000 C   0  0  0  0  0  0  0  0  0  0  0  0\n",
      "    1.5000   -5.1962    0.0000 O   0  0  0  0  0  0  0  0  0  0  0  0\n",
      "    0.7500   -3.8971    0.0000 C   0  0  0  0  0  0  0  0  0  0  0  0\n",
      "   -0.7500   -3.8971    0.0000 C   0  0  0  0  0  0  0  0  0  0  0  0\n",
      "   -1.5000   -2.5981    0.0000 C   0  0  0  0  0  0  0  0  0  0  0  0\n",
      "   -0.7500   -1.2990    0.0000 C   0  0  0  0  0  0  0  0  0  0  0  0\n",
      "    0.7500   -1.2990    0.0000 C   0  0  0  0  0  0  0  0  0  0  0  0\n",
      "    1.5000   -2.5981    0.0000 C   0  0  0  0  0  0  0  0  0  0  0  0\n",
      "    1.5000    0.0000    0.0000 C   0  0  0  0  0  0  0  0  0  0  0  0\n",
      "    0.7500    1.2990    0.0000 C   0  0  0  0  0  0  0  0  0  0  0  0\n",
      "   -0.7500    1.2990    0.0000 N   0  0  0  0  0  0  0  0  0  0  0  0\n",
      "   -1.5000    0.0000    0.0000 C   0  0  0  0  0  0  0  0  0  0  0  0\n",
      "   -3.0000    0.0000    0.0000 C   0  0  0  0  0  0  0  0  0  0  0  0\n",
      "   -3.7500    1.2990    0.0000 C   0  0  0  0  0  0  0  0  0  0  0  0\n",
      "   -5.2500    1.2990    0.0000 C   0  0  0  0  0  0  0  0  0  0  0  0\n",
      "   -6.0000    0.0000    0.0000 C   0  0  0  0  0  0  0  0  0  0  0  0\n",
      "   -5.2500   -1.2990    0.0000 C   0  0  0  0  0  0  0  0  0  0  0  0\n",
      "   -3.7500   -1.2990    0.0000 C   0  0  0  0  0  0  0  0  0  0  0  0\n",
      "   -7.5000    0.0000    0.0000 Cl  0  0  0  0  0  0  0  0  0  0  0  0\n",
      "   -6.0000    2.5981    0.0000 Cl  0  0  0  0  0  0  0  0  0  0  0  0\n",
      "   -1.5000   -5.1962    0.0000 Cl  0  0  0  0  0  0  0  0  0  0  0  0\n",
      "  1  2  1  0\n",
      "  2  3  1  0\n",
      "  3  4  2  0\n",
      "  4  5  1  0\n",
      "  5  6  2  0\n",
      "  6  7  1  0\n",
      "  7  8  2  0\n",
      "  7  9  1  0\n",
      "  9 10  1  0\n",
      " 10 11  1  0\n",
      " 11 12  2  0\n",
      " 12 13  1  0\n",
      " 13 14  2  0\n",
      " 14 15  1  0\n",
      " 15 16  2  0\n",
      " 16 17  1  0\n",
      " 17 18  2  0\n",
      " 16 19  1  0\n",
      " 15 20  1  0\n",
      "  4 21  1  0\n",
      "  8  3  1  0\n",
      " 12  6  1  0\n",
      " 18 13  1  0\n",
      "M  END\n",
      "\n"
     ]
    }
   ],
   "source": [
    "# smiles -> mol\n",
    "smile = 'COC1=C(C=C2C(=C1)CCN=C2C3=CC(=C(C=C3)Cl)Cl)Cl'\n",
    "mol = Chem.MolFromSmiles(smile)\n",
    "print(f'{mol}')\n",
    "# 保存mol文件\n",
    "Chem.MolToMolFile(mol,'data/CHEMBL1087421.mol')\n",
    "#打印mol格式内容\n",
    "print(Chem.MolToMolBlock(mol)) "
   ]
  },
  {
   "cell_type": "code",
   "execution_count": 4,
   "id": "clean-gnome",
   "metadata": {},
   "outputs": [
    {
     "name": "stdout",
     "output_type": "stream",
     "text": [
      "COc1cc2c(cc1Cl)C(c1ccc(Cl)c(Cl)c1)=NCC2\n"
     ]
    }
   ],
   "source": [
    "# sdf -> smiles\n",
    "from rdkit.Chem import AllChem\n",
    "sdf_file = 'data/Structure2D_CID_44138048.sdf'\n",
    "mols = Chem.SDMolSupplier(sdf_file)\n",
    "for mol in mols:\n",
    "    smiles = Chem.MolToSmiles(mol)\n",
    "    print(f'{smiles}')"
   ]
  },
  {
   "cell_type": "markdown",
   "id": "described-potter",
   "metadata": {},
   "source": [
    "## [分子指纹提取](http://rdkit.chenzhaoqiang.com/basicManual.html#maccs-maccskeys-genmaccskeys-mol)"
   ]
  },
  {
   "cell_type": "code",
   "execution_count": 5,
   "id": "017e962c-c27a-4a2e-8548-28e347973d8b",
   "metadata": {},
   "outputs": [
    {
     "data": {
      "text/plain": [
       "'0000000000000000000000000000000000000000000000000000000000000000010000000100000000000000000000000000100010000001011000000000101000000001000010111000100101100011011110'"
      ]
     },
     "execution_count": 5,
     "metadata": {},
     "output_type": "execute_result"
    }
   ],
   "source": [
    "# MACCS指纹\n",
    "from rdkit.Chem import MACCSkeys\n",
    "from rdkit.DataStructs.cDataStructs import ConvertToNumpyArray\n",
    "from rdkit import Chem\n",
    "mol_file = 'data/AAQ.mol'\n",
    "mol = Chem.MolFromMolFile(mol_file)\n",
    "fps = MACCSkeys.GenMACCSKeys(mol)\n",
    "fps.ToBitString()[1:]"
   ]
  },
  {
   "cell_type": "code",
   "execution_count": 6,
   "id": "8f3f88d9-e71e-445d-a174-3437cf70f2f9",
   "metadata": {},
   "outputs": [
    {
     "data": {
      "text/plain": [
       "'01100000000000000000000000000000010010000000000000000000001000001000000000000000100000000000000000000000000000000010000000001000010000000010000000000000000000000000000010000001000000000000000000000000000000000000001000000000000000000000000000000000000000000000000000000000000100000000000000000011000000000000000000100000000000000000000001000000000000001000100000010000000000000000000000000100110000000000000000000000000000000000001000000000000000000000100000000000000000001000000000000000000000000000000000000000'"
      ]
     },
     "execution_count": 6,
     "metadata": {},
     "output_type": "execute_result"
    }
   ],
   "source": [
    "# 摩根指纹\n",
    "from rdkit.Chem import AllChem\n",
    "import numpy as np\n",
    "mol_file = 'data/AAQ.mol'\n",
    "mol = Chem.MolFromMolFile(mol_file)\n",
    "## GetMorganFingerprintAsBitVect((Mol)mol, (int)radius, (int)nBits=2048)\n",
    "## @radius: scanning radius \n",
    "## @nBits: Number of bits to store ECFP features\n",
    "fp = AllChem.GetMorganFingerprintAsBitVect(mol,2,512)\n",
    "#np.array(fp)\n",
    "fp.ToBitString()\n",
    "\n",
    "## 默认半径为2的摩根指纹就是ECFP4指纹\n",
    "## 半径为2且考虑feature-based invariants得到的指纹为FCFP4指纹\n",
    "## m1 = Chem.MolFromSmiles('c1ccccn1')\n",
    "## ecfp4_mg = AllChem.GetMorganFingerprintAsBitVect(m1,2)\n",
    "## fcfp4_mg = AllChem.GetMorganFingerprintAsBitVect(m1,2,useFeatures=True)"
   ]
  },
  {
   "cell_type": "code",
   "execution_count": 7,
   "id": "c143c7a1-a8c5-4ee3-a4ee-c398f34fd2ab",
   "metadata": {},
   "outputs": [
    {
     "name": "stdout",
     "output_type": "stream",
     "text": [
      "{1: ((4, 2), (3, 2), (7, 2)), 2: ((19, 2),), 33: ((17, 0), (18, 0), (20, 0)), 36: ((12, 2),), 58: ((16, 1),), 64: ((1, 1), (0, 1)), 80: ((19, 0),), 114: ((16, 0),), 124: ((8, 2),), 129: ((11, 2),), 138: ((14, 0), (15, 0)), 168: ((10, 2),), 175: ((1, 2), (0, 2)), 214: ((2, 1), (5, 1), (10, 1), (11, 1)), 275: ((16, 2),), 294: ((20, 1),), 295: ((19, 1),), 314: ((14, 1), (15, 1)), 337: ((0, 0), (1, 0), (2, 0), (5, 0), (10, 0), (11, 0), (13, 0)), 352: ((3, 1), (4, 1), (7, 1), (8, 1)), 356: ((3, 0), (4, 0), (6, 0), (7, 0), (8, 0), (9, 0), (12, 0)), 363: ((13, 1),), 389: ((9, 2), (6, 2)), 392: ((17, 1), (18, 1)), 393: ((12, 1),), 430: ((13, 2),), 452: ((9, 1), (6, 1)), 472: ((2, 2), (5, 2))}\n"
     ]
    },
    {
     "data": {
      "image/png": "[encoded data removed]",
      "text/plain": [
       "<PIL.PngImagePlugin.PngImageFile image mode=RGB size=150x150 at 0x7FA4B54C96D0>"
      ]
     },
     "execution_count": 7,
     "metadata": {},
     "output_type": "execute_result"
    }
   ],
   "source": [
    "#计算ECFP4指纹中有效的信息\n",
    "from rdkit.Chem import AllChem\n",
    "from rdkit import Chem\n",
    "import numpy as np\n",
    "mol_file = 'data/AAQ.mol'\n",
    "mol = Chem.MolFromMolFile(mol_file)\n",
    "bi = {}\n",
    "fp = AllChem.GetMorganFingerprintAsBitVect(mol, radius=2, nBits=512,bitInfo=bi)\n",
    "# print(\"num non zero bit in nBit=%d: %d\"%(nbit,len(bi.keys())))\n",
    "\n",
    "\"\"\"\n",
    "里面的最小单元对应的是(atom index, radius)。 \n",
    "(19, 2)表示19号原子半径2的指纹。 \n",
    "((4, 2), (3, 2), (7, 2))表示4号原子、3号原子和7号原子 原子半径为1的指纹。\n",
    "\n",
    "蓝色：表示中心原子\n",
    "黄色：表示带有芳香性质的原子\n",
    "灰色：表示在脂肪环中的原\n",
    "\"\"\"\n",
    "print(bi)\n",
    "Draw.DrawMorganBit(mol, 1, bi)\n",
    "#for v in info.values():\n",
    "#    print(v)"
   ]
  },
  {
   "cell_type": "code",
   "execution_count": 8,
   "id": "1d21b3fc-32ba-48d8-8c9b-bf36d4bf463a",
   "metadata": {},
   "outputs": [
    {
     "name": "stdout",
     "output_type": "stream",
     "text": [
      "{12: 0, 16: 1, 17: 2, 18: 3, 19: 4, 20: 5}\n",
      "CCC(c)(C)C\n"
     ]
    }
   ],
   "source": [
    "\"\"\"\n",
    "以提取出2的结构为例，首先提取mol中，半径为2，第19个原子的结构\n",
    "@submol1: 接收提取出的子结构\n",
    "@amap: 用于接收原子索引的映射关系，键为原始分子中的原子索引，值为子结构中的原子索引\n",
    "@env: 是被提取出的键的索引\n",
    "\"\"\"\n",
    "env = Chem.FindAtomEnvironmentOfRadiusN(mol,2,19)\n",
    "amap={}\n",
    "submol1 = Chem.PathToSubmol(mol,env,atomMap=amap)\n",
    "print(amap)\n",
    "# 用SMILES表示该子结构\n",
    "print(Chem.MolToSmiles(submol1))\n",
    "# env = Chem.FindAtomEnvironmentOfRadiusN(mol,1,1)\n",
    "# amap={}\n",
    "# submol11=Chem.PathToSubmol(mol,env,atomMap=amap)\n",
    "\n",
    "# env = Chem.FindAtomEnvironmentOfRadiusN(mol,1,0)\n",
    "# amap={}\n",
    "# submol12=Chem.PathToSubmol(mol,env,atomMap=amap)\n",
    "\n",
    "# mols=[submol25,submol11,submol12]\n",
    "# Draw.MolsToGridImage(mols,molsPerRow=3,subImgSize=(300,200),legends=['' for x in mols])"
   ]
  },
  {
   "cell_type": "code",
   "execution_count": 9,
   "id": "147fb38c-a4b6-45ec-8c66-55f69a3fe015",
   "metadata": {},
   "outputs": [
    {
     "name": "stdout",
     "output_type": "stream",
     "text": [
      "num non zero bit in nBit=64: 25\n",
      "num non zero bit in nBit=128: 26\n",
      "num non zero bit in nBit=256: 27\n",
      "num non zero bit in nBit=512: 28\n",
      "num non zero bit in nBit=1024: 28\n",
      "num non zero bit in nBit=2048: 28\n"
     ]
    }
   ],
   "source": [
    "# 设置不同的nBits 计算ECFP4指纹中有效信息的个数\n",
    "from rdkit.Chem import AllChem\n",
    "from rdkit import Chem\n",
    "import numpy as np\n",
    "from rdkit.Chem import Draw\n",
    "nbitss=[64,128,256,512,1024,2048]\n",
    "mol_file = 'data/AAQ.mol'\n",
    "mol = Chem.MolFromMolFile(mol_file)\n",
    "for nbit in nbitss:\n",
    "    bi = {}\n",
    "    fp = AllChem.GetMorganFingerprintAsBitVect(mol, radius=2, nBits=nbit,bitInfo=bi)\n",
    "    print(\"num non zero bit in nBit=%d: %d\"%(nbit,len(bi.keys())))"
   ]
  },
  {
   "cell_type": "markdown",
   "id": "1faa7c21-0b73-4f33-aa44-9e216a19cb4c",
   "metadata": {},
   "source": [
    "## 最大公共子结构"
   ]
  },
  {
   "cell_type": "code",
   "execution_count": 10,
   "id": "f3d6bcb7-da53-4917-b96b-abfcae684c3a",
   "metadata": {},
   "outputs": [
    {
     "name": "stdout",
     "output_type": "stream",
     "text": [
      "(4, 3, 5, 6, 7, 8, 9, 11, 12, 10)\n",
      "fragment smiles COc1cc(C)ccc1O\n"
     ]
    }
   ],
   "source": [
    "from rdkit.Chem import rdFMCS\n",
    "from rdkit import Chem\n",
    "mol1 = Chem.MolFromSmiles(\"O=C(NCc1cc(OC)c(O)cc1)CCCC/C=C/C(C)C\")\n",
    "mol2 = Chem.MolFromSmiles(\"CC(C)CCCCCC(=O)NCC1=CC(=C(C=C1)O)OC\")\n",
    "mol3 = Chem.MolFromSmiles(\"c1(C=O)cc(OC)c(O)cc1\")\n",
    "mols = [mol1,mol2,mol3]\n",
    "res=rdFMCS.FindMCS(mols)\n",
    "common=Chem.MolFromSmarts(res.smartsString)\n",
    "#print(res.smartsString,Chem.MolToSmiles(common))\n",
    "\n",
    "atom_indices = mol1.GetSubstructMatch(common)\n",
    "print(atom_indices)\n",
    "print(\"fragment smiles\",Chem.MolFragmentToSmiles(mol1, atom_indices)) # returns the nitrile\n"
   ]
  },
  {
   "cell_type": "markdown",
   "id": "confirmed-belize",
   "metadata": {},
   "source": [
    "## 分子相似性计算"
   ]
  },
  {
   "cell_type": "code",
   "execution_count": 11,
   "id": "eb64db79-8aea-4003-a38b-6ae48ce5359b",
   "metadata": {},
   "outputs": [
    {
     "name": "stdout",
     "output_type": "stream",
     "text": [
      "similarity between mol 1 and mol2: 0.78\n",
      "similarity between mol 1 and mol3: 0.70\n",
      "similarity between mol 2 and mol3: 0.92\n"
     ]
    }
   ],
   "source": [
    "# 基于 MACCS 指纹和 Dice 相似性方法计算相似性\n",
    "from rdkit import DataStructs\n",
    "from rdkit.Chem import MACCSkeys\n",
    "import rdkit\n",
    "from rdkit import Chem\n",
    "from rdkit.Chem import Draw\n",
    "smis=[\n",
    "    'CC(=O)CC(C1=CC=C(C=C1)[N+]([O-])=O)C1=C(O)C2=CC=CC=C2OC1=O',\n",
    "    'CC(=O)CC(C1=CC=CC=C1)C1=C(O)C2=C(OC1=O)C=CC=C2',\n",
    "    'CCC(C1=CC=CC=C1)C1=C(O)C2=C(OC1=O)C=CC=C2'\n",
    "]\n",
    "mols =[]\n",
    "for smi in smis:\n",
    "    m = Chem.MolFromSmiles(smi)\n",
    "    mols.append(m)\n",
    "\n",
    "fps = [MACCSkeys.GenMACCSKeys(x) for x in mols]\n",
    "sm01=DataStructs.FingerprintSimilarity(fps[0],fps[1],metric=DataStructs.DiceSimilarity)\n",
    "sm02=DataStructs.FingerprintSimilarity(fps[0],fps[2],metric=DataStructs.DiceSimilarity)\n",
    "sm12=DataStructs.FingerprintSimilarity(fps[1],fps[2],metric=DataStructs.DiceSimilarity)\n",
    "\n",
    "print(\"similarity between mol 1 and mol2: %.2f\"%sm01)\n",
    "print(\"similarity between mol 1 and mol3: %.2f\"%sm02)\n",
    "print(\"similarity between mol 2 and mol3: %.2f\"%sm12)"
   ]
  },
  {
   "cell_type": "markdown",
   "id": "875818de-8fa9-4df9-b7cf-77fa124674a5",
   "metadata": {},
   "source": [
    "## [操作分子](https://zhuanlan.zhihu.com/p/143111689)"
   ]
  },
  {
   "cell_type": "markdown",
   "id": "02a0697e-29b9-435f-8d13-d4f3f983080e",
   "metadata": {},
   "source": [
    "<table>\n",
    "<thead>\n",
    "  <tr>\n",
    "    <th colspan=\"2\">原子操作</th>\n",
    "  </tr>\n",
    "</thead>\n",
    "<tbody>\n",
    "  <tr>\n",
    "    <td>对原子进行遍历</td>\n",
    "    <td>m.GetAtoms()</td>\n",
    "  </tr>\n",
    "  <tr>\n",
    "    <td>获取原子索引</td>\n",
    "    <td>GetIdx()</td>\n",
    "  </tr>\n",
    "  <tr>\n",
    "    <td>获取原子序号</td>\n",
    "    <td>GetAtomicNum()</td>\n",
    "  </tr>\n",
    "  <tr>\n",
    "    <td>获取原子符号</td>\n",
    "    <td>GetSymbol()</td>\n",
    "  </tr>\n",
    "  <tr>\n",
    "    <td>获取原子连接数（受H是否隐藏影响）</td>\n",
    "    <td>GetDegree()</td>\n",
    "  </tr>\n",
    "  <tr>\n",
    "    <td>获取原子总连接数（与H是否隐藏无关）</td>\n",
    "    <td>GetTotalDegree()</td>\n",
    "  </tr>\n",
    "      <tr>\n",
    "    <td>与该原子连接的氢原子个数</td>\n",
    "    <td>GetTotalNumHs()</td>\n",
    "  </tr>\n",
    "  <tr>\n",
    "    <td>获取原子形式电荷</td>\n",
    "    <td>GetFormalCharge()</td>\n",
    "  </tr>\n",
    "  <tr>\n",
    "    <td>获取原子杂化方式</td>\n",
    "    <td>GetHybridization()</td>\n",
    "  </tr>\n",
    "  <tr>\n",
    "    <td>获取原子显式化合价</td>\n",
    "    <td>GetExplicitValence()</td>\n",
    "  </tr>\n",
    "  <tr>\n",
    "    <td>获取原子隐式化合价</td>\n",
    "    <td>GetImplicitValence()</td>\n",
    "  </tr>\n",
    "  <tr>\n",
    "    <td>获取原子总的化合价</td>\n",
    "    <td>GetTotalValence()</td>\n",
    "  </tr>\n",
    "      <tr>\n",
    "    <td>该原子是否在芳香烃内</td>\n",
    "    <td>GetIsAromatic()</td>\n",
    "  </tr>\n",
    "          <tr>\n",
    "    <td>获取相连的原子</td>\n",
    "    <td>GetNeighbors()</td>\n",
    "  </tr>\n",
    "</tbody>\n",
    "</table>"
   ]
  },
  {
   "cell_type": "code",
   "execution_count": 12,
   "id": "92defe57-224b-4e23-b694-137d073ef1cf",
   "metadata": {},
   "outputs": [
    {
     "name": "stdout",
     "output_type": "stream",
     "text": [
      "id\tnum\tsymbol\tdegree\tHsNumber\texplicit\timplicit\taromatic\tcharge\thybrid\n",
      "0\t6\tC\t2\t1\t\t3\t\t1\t\tTrue\t\t0\tSP2\n",
      "1\t6\tC\t2\t1\t\t3\t\t1\t\tTrue\t\t0\tSP2\n",
      "2\t6\tC\t2\t1\t\t3\t\t1\t\tTrue\t\t0\tSP2\n",
      "3\t6\tC\t3\t0\t\t4\t\t0\t\tTrue\t\t0\tSP2\n",
      "4\t6\tC\t3\t0\t\t4\t\t0\t\tTrue\t\t0\tSP2\n",
      "5\t6\tC\t2\t1\t\t3\t\t1\t\tTrue\t\t0\tSP2\n",
      "6\t6\tC\t3\t0\t\t4\t\t0\t\tFalse\t\t0\tSP2\n",
      "7\t6\tC\t3\t0\t\t4\t\t0\t\tTrue\t\t0\tSP2\n",
      "8\t6\tC\t3\t0\t\t4\t\t0\t\tTrue\t\t0\tSP2\n",
      "9\t6\tC\t3\t0\t\t4\t\t0\t\tFalse\t\t0\tSP2\n",
      "10\t6\tC\t2\t1\t\t3\t\t1\t\tTrue\t\t0\tSP2\n",
      "11\t6\tC\t2\t1\t\t3\t\t1\t\tTrue\t\t0\tSP2\n",
      "12\t6\tC\t3\t0\t\t4\t\t0\t\tTrue\t\t0\tSP2\n",
      "13\t6\tC\t2\t1\t\t3\t\t1\t\tTrue\t\t0\tSP2\n",
      "14\t8\tO\t1\t0\t\t2\t\t0\t\tFalse\t\t0\tSP2\n",
      "15\t8\tO\t1\t0\t\t2\t\t0\t\tFalse\t\t0\tSP2\n",
      "16\t6\tC\t4\t0\t\t4\t\t0\t\tFalse\t\t0\tSP3\n",
      "17\t6\tC\t1\t3\t\t1\t\t3\t\tFalse\t\t0\tSP3\n",
      "18\t6\tC\t1\t3\t\t1\t\t3\t\tFalse\t\t0\tSP3\n",
      "19\t6\tC\t2\t2\t\t2\t\t2\t\tFalse\t\t0\tSP3\n",
      "20\t6\tC\t1\t3\t\t1\t\t3\t\tFalse\t\t0\tSP3\n"
     ]
    }
   ],
   "source": [
    "from rdkit import Chem\n",
    "mol_file = 'data/AAQ.mol'\n",
    "mol = Chem.MolFromMolFile(mol_file)\n",
    "print('\\t'.join(['id', 'num', 'symbol', 'degree', 'HsNumber','explicit','implicit','aromatic','charge', 'hybrid']))\n",
    "for atom in mol.GetAtoms():\n",
    "    print(atom.GetIdx(), end='\\t')\n",
    "    print(atom.GetAtomicNum(), end='\\t')\n",
    "    print(atom.GetSymbol(), end='\\t')\n",
    "    print(atom.GetDegree(), end='\\t')\n",
    "    print(atom.GetTotalNumHs(), end='\\t\\t')\n",
    "    print(atom.GetExplicitValence(), end='\\t\\t')\n",
    "    print(atom.GetImplicitValence(), end='\\t\\t')\n",
    "    print(atom.GetIsAromatic(), end='\\t\\t')\n",
    "    print(atom.GetFormalCharge(), end='\\t')\n",
    "    print(atom.GetHybridization())"
   ]
  },
  {
   "cell_type": "code",
   "execution_count": 13,
   "id": "db0c44db-4a17-46f4-99aa-05e762682bab",
   "metadata": {},
   "outputs": [
    {
     "name": "stdout",
     "output_type": "stream",
     "text": [
      "C\n"
     ]
    }
   ],
   "source": [
    "# 也可以通过索引获取原子：GetAtomWithIdx()\n",
    "print(mol.GetAtomWithIdx(0).GetSymbol())"
   ]
  },
  {
   "cell_type": "code",
   "execution_count": 14,
   "id": "685dfd4b-9857-4322-8f3f-0b5439c5d316",
   "metadata": {},
   "outputs": [
    {
     "name": "stdout",
     "output_type": "stream",
     "text": [
      "[6, 6, 8]\n"
     ]
    },
    {
     "data": {
      "image/png": "[encoded data removed]",
      "text/plain": [
       "<rdkit.Chem.rdchem.Mol at 0x7fa4b54e51c0>"
      ]
     },
     "execution_count": 14,
     "metadata": {},
     "output_type": "execute_result"
    }
   ],
   "source": [
    "# 获取相连的原子：GetNeighbors()\n",
    "from rdkit import Chem\n",
    "mol_file = 'data/AAQ.mol'\n",
    "mol = Chem.MolFromMolFile(mol_file)\n",
    "atom = mol.GetAtomWithIdx(9)\n",
    "print([x.GetAtomicNum() for x in atom.GetNeighbors()])\n",
    "# print([x.GetIdx() for x in atom.GetNeighbors()])\n",
    "\n",
    "# 显示分子中原子的编号\n",
    "from rdkit import Chem\n",
    "from rdkit.Chem import  Draw\n",
    "\n",
    "def mol_with_atom_index( mol ):\n",
    "    atoms = mol.GetNumAtoms()\n",
    "    for idx in range( atoms ):\n",
    "        mol.GetAtomWithIdx( idx ).SetProp( 'molAtomMapNumber', str( mol.GetAtomWithIdx( idx ).GetIdx() ) )\n",
    "    return mol\n",
    "\n",
    "mol_with_atom_index(mol)"
   ]
  },
  {
   "cell_type": "markdown",
   "id": "696e66d3-0e74-4a98-b4b1-8350bdecaa64",
   "metadata": {},
   "source": [
    "<table>\n",
    "<thead>\n",
    "  <tr>\n",
    "    <th colspan=\"2\">键操作</th>\n",
    "  </tr>\n",
    "</thead>\n",
    "<tbody>\n",
    "  <tr>\n",
    "    <td>对键进行遍历</td>\n",
    "    <td>m.GetBonds()</td>\n",
    "  </tr>\n",
    "  <tr>\n",
    "    <td>获取键的索引</td>\n",
    "    <td>GetIdx()</td>\n",
    "  </tr>\n",
    "  <tr>\n",
    "    <td>获取键的类型</td>\n",
    "    <td>GetGetBondType()</td>\n",
    "  </tr>\n",
    "  <tr>\n",
    "    <td>以数字形式显示键的类型</td>\n",
    "    <td>GetBondTypeAsDouble()</td>\n",
    "  </tr>\n",
    "  <tr>\n",
    "    <td>是否为芳香键</td>\n",
    "    <td>GetIsAromatic()</td>\n",
    "  </tr>\n",
    "  <tr>\n",
    "    <td>是否为共轭键</td>\n",
    "    <td>GetIsConjugated()</td>\n",
    "  </tr>\n",
    "  <tr>\n",
    "    <td>是否在环中</td>\n",
    "    <td>IsInRing()</td>\n",
    "  </tr>\n",
    "  <tr>\n",
    "    <td>是否在n元环中</td>\n",
    "    <td>IsInRingSize(n)</td>\n",
    "  </tr>\n",
    "  <tr>\n",
    "    <td>获取起始原子</td>\n",
    "    <td>GetBeginAtomIdx()</td>\n",
    "  </tr>\n",
    "  <tr>\n",
    "    <td>获取末尾原子</td>\n",
    "    <td>GetEndAtomIdx()</td>\n",
    "  </tr>\n",
    "</tbody>\n",
    "</table>\n"
   ]
  },
  {
   "cell_type": "code",
   "execution_count": 15,
   "id": "050bc604-4d76-4268-b624-03d770837406",
   "metadata": {},
   "outputs": [
    {
     "name": "stdout",
     "output_type": "stream",
     "text": [
      "id\ttype\t\tdouble\taromic\tconjug\tring\tbegin\tend\n",
      "0\tAROMATIC\t1.5\tTrue\tTrue\tTrue\t0\t1\n",
      "1\tAROMATIC\t1.5\tTrue\tTrue\tTrue\t1\t2\n",
      "2\tAROMATIC\t1.5\tTrue\tTrue\tTrue\t2\t3\n",
      "3\tAROMATIC\t1.5\tTrue\tTrue\tTrue\t3\t4\n",
      "4\tAROMATIC\t1.5\tTrue\tTrue\tTrue\t4\t5\n",
      "5\tAROMATIC\t1.5\tTrue\tTrue\tTrue\t5\t0\n",
      "6\tSINGLE\t1.0\tFalse\tTrue\tTrue\t3\t6\n",
      "7\tSINGLE\t1.0\tFalse\tTrue\tTrue\t6\t7\n",
      "8\tAROMATIC\t1.5\tTrue\tTrue\tTrue\t7\t8\n",
      "9\tSINGLE\t1.0\tFalse\tTrue\tTrue\t8\t9\n",
      "10\tSINGLE\t1.0\tFalse\tTrue\tTrue\t9\t4\n",
      "11\tAROMATIC\t1.5\tTrue\tTrue\tTrue\t7\t10\n",
      "12\tAROMATIC\t1.5\tTrue\tTrue\tTrue\t10\t11\n",
      "13\tAROMATIC\t1.5\tTrue\tTrue\tTrue\t11\t12\n",
      "14\tAROMATIC\t1.5\tTrue\tTrue\tTrue\t12\t13\n",
      "15\tAROMATIC\t1.5\tTrue\tTrue\tTrue\t13\t8\n",
      "16\tDOUBLE\t2.0\tFalse\tTrue\tFalse\t9\t14\n",
      "17\tDOUBLE\t2.0\tFalse\tTrue\tFalse\t6\t15\n",
      "18\tSINGLE\t1.0\tFalse\tFalse\tFalse\t12\t16\n",
      "19\tSINGLE\t1.0\tFalse\tFalse\tFalse\t16\t17\n",
      "20\tSINGLE\t1.0\tFalse\tFalse\tFalse\t16\t18\n",
      "21\tSINGLE\t1.0\tFalse\tFalse\tFalse\t16\t19\n",
      "22\tSINGLE\t1.0\tFalse\tFalse\tFalse\t19\t20\n"
     ]
    }
   ],
   "source": [
    "from rdkit import Chem\n",
    "mol_file = 'data/AAQ.mol'\n",
    "mol = Chem.MolFromMolFile(mol_file)\n",
    "print('\\t'.join(['id', 'type', '\\tdouble', 'aromic', 'conjug', 'ring', 'begin', 'end']))\n",
    "for bond in mol.GetBonds():\n",
    "    print(bond.GetIdx(), end='\\t')\n",
    "    print(bond.GetBondType(), end='\\t')\n",
    "    print(bond.GetBondTypeAsDouble(), end='\\t')\n",
    "    print(bond.GetIsAromatic(), end='\\t')\n",
    "    print(bond.GetIsConjugated(), end='\\t')\n",
    "    print(bond.IsInRing(), end='\\t')\n",
    "    print(bond.GetBeginAtomIdx(), end='\\t')\n",
    "    print(bond.GetEndAtomIdx())"
   ]
  },
  {
   "cell_type": "code",
   "execution_count": 16,
   "id": "5fa44b67-2887-4f28-b942-dba3d21ebdae",
   "metadata": {},
   "outputs": [
    {
     "name": "stdout",
     "output_type": "stream",
     "text": [
      "AROMATIC\n"
     ]
    }
   ],
   "source": [
    "# 也可以通过索引获取键：GetBondWithIdx()\n",
    "print(mol.GetBondWithIdx(0).GetBondType())"
   ]
  },
  {
   "cell_type": "code",
   "execution_count": 17,
   "id": "6ae73dd4-a429-489f-b4a8-e43e04c0d8fc",
   "metadata": {},
   "outputs": [
    {
     "data": {
      "text/plain": [
       "0"
      ]
     },
     "execution_count": 17,
     "metadata": {},
     "output_type": "execute_result"
    }
   ],
   "source": [
    "# 获得两个atom(atom_index1, atom_index2)之间的键的信息\n",
    "mol.GetBondBetweenAtoms(0, 1).GetIdx()"
   ]
  }
 ],
 "metadata": {
  "kernelspec": {
   "display_name": "Python 3",
   "language": "python",
   "name": "python3"
  },
  "language_info": {
   "codemirror_mode": {
    "name": "ipython",
    "version": 3
   },
   "file_extension": ".py",
   "mimetype": "text/x-python",
   "name": "python",
   "nbconvert_exporter": "python",
   "pygments_lexer": "ipython3",
   "version": "3.8.8"
  },
  "toc-autonumbering": false,
  "toc-showmarkdowntxt": false,
  "toc-showtags": false
 },
 "nbformat": 4,
 "nbformat_minor": 5
}
